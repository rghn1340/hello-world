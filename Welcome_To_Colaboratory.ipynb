{
  "nbformat": 4,
  "nbformat_minor": 0,
  "metadata": {
    "colab": {
      "name": "Welcome To Colaboratory",
      "provenance": [],
      "collapsed_sections": [],
      "include_colab_link": true
    },
    "kernelspec": {
      "display_name": "Python 3",
      "name": "python3"
    }
  },
  "cells": [
    {
      "cell_type": "markdown",
      "metadata": {
        "id": "view-in-github",
        "colab_type": "text"
      },
      "source": [
        "<a href=\"https://colab.research.google.com/github/rghn1340/hello-world/blob/master/Welcome_To_Colaboratory.ipynb\" target=\"_parent\"><img src=\"https://colab.research.google.com/assets/colab-badge.svg\" alt=\"Open In Colab\"/></a>"
      ]
    },
    {
      "cell_type": "markdown",
      "metadata": {
        "id": "O_inF9fEjLwc",
        "colab_type": "text"
      },
      "source": [
        "#getting started with python"
      ]
    },
    {
      "cell_type": "code",
      "metadata": {
        "id": "C83rj1JTReKo",
        "colab_type": "code",
        "outputId": "1e27a73a-18c5-4602-83ba-0f10d4fac909",
        "colab": {
          "base_uri": "https://localhost:8080/",
          "height": 51
        }
      },
      "source": [
        "print('hello')\n",
        "for i in range(1,10):\n",
        "  print(i,end=' ')\n"
      ],
      "execution_count": 0,
      "outputs": [
        {
          "output_type": "stream",
          "text": [
            "hello\n",
            "1 2 3 4 5 6 7 8 9 "
          ],
          "name": "stdout"
        }
      ]
    },
    {
      "cell_type": "markdown",
      "metadata": {
        "id": "NivXzd5SWdL3",
        "colab_type": "text"
      },
      "source": [
        "#fibonachi"
      ]
    },
    {
      "cell_type": "code",
      "metadata": {
        "id": "to004KYQWbAo",
        "colab_type": "code",
        "outputId": "02a6475c-4779-42cf-b8ca-9ba6d86b5ade",
        "colab": {
          "base_uri": "https://localhost:8080/",
          "height": 68
        }
      },
      "source": [
        "a , b , k = 1, 1, 1\n",
        "#print(a, b , k)\n",
        "n = input('Enter mounths: ')\n",
        "k = input('Enter k: ')\n",
        "k = int(k)\n",
        "n = int(n)\n",
        "for i in range(1, n):\n",
        "  print(a,end=' ')\n",
        "  a, b = b , k*a + b\n",
        "\n",
        "print(a)"
      ],
      "execution_count": 0,
      "outputs": [
        {
          "output_type": "stream",
          "text": [
            "Enter mounths: 10\n",
            "Enter k: 2\n",
            "1 1 3 5 11 21 43 85 171 341\n"
          ],
          "name": "stdout"
        }
      ]
    },
    {
      "cell_type": "markdown",
      "metadata": {
        "id": "jz3KMHXnj6cg",
        "colab_type": "text"
      },
      "source": [
        "#loops and iterations"
      ]
    },
    {
      "cell_type": "code",
      "metadata": {
        "id": "jercQb8rkLOb",
        "colab_type": "code",
        "colab": {}
      },
      "source": [
        "n = 5\n",
        "print('start')\n",
        "while n > 0:\n",
        "  print(n)\n",
        "  n = n - 1\n",
        "print('End')\n"
      ],
      "execution_count": 0,
      "outputs": []
    },
    {
      "cell_type": "code",
      "metadata": {
        "id": "lGswMYX6mEGI",
        "colab_type": "code",
        "colab": {}
      },
      "source": [
        "while True:\n",
        "  l = input('> ')\n",
        "  if l[0] == '#':\n",
        "    continue\n",
        "  if l == 'done':\n",
        "    break\n",
        "  print(l)\n",
        "print('End')\n"
      ],
      "execution_count": 0,
      "outputs": []
    },
    {
      "cell_type": "code",
      "metadata": {
        "id": "2oCuDUFXsvXk",
        "colab_type": "code",
        "colab": {
          "base_uri": "https://localhost:8080/",
          "height": 84
        },
        "outputId": "45b4aaba-1223-48b9-a962-9e9c8069042f"
      },
      "source": [
        "for n in [4,6,8,10]:\n",
        "  print(n)"
      ],
      "execution_count": 6,
      "outputs": [
        {
          "output_type": "stream",
          "text": [
            "4\n",
            "6\n",
            "8\n",
            "10\n"
          ],
          "name": "stdout"
        }
      ]
    },
    {
      "cell_type": "markdown",
      "metadata": {
        "id": "JGoF5wsAoSrd",
        "colab_type": "text"
      },
      "source": [
        "#maximum and minimum"
      ]
    },
    {
      "cell_type": "code",
      "metadata": {
        "id": "agqompv_uezn",
        "colab_type": "code",
        "colab": {
          "base_uri": "https://localhost:8080/",
          "height": 34
        },
        "outputId": "9f7d3875-6457-442d-8ccd-336b30f64f28"
      },
      "source": [
        "max = None\n",
        "min = None\n",
        "for i in [3,67,54,9,21,7,98,4,5]:\n",
        "  if max == None or max < i:\n",
        "    max = i\n",
        "  if min == None or min > i:\n",
        "    min = i\n",
        "print('max =',max,'min =', min)\n"
      ],
      "execution_count": 8,
      "outputs": [
        {
          "output_type": "stream",
          "text": [
            "max = 98 min = 3\n"
          ],
          "name": "stdout"
        }
      ]
    }
  ]
}